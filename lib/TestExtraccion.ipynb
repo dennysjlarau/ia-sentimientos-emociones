{
 "cells": [
  {
   "cell_type": "code",
   "execution_count": 5,
   "id": "8234753e",
   "metadata": {},
   "outputs": [
    {
     "name": "stdout",
     "output_type": "stream",
     "text": [
      "Posición, nombre de canción y autor, extraidos del top 100 enero del portal de musica: \n",
      "[['1', 'PELELE', 'MORAD'], ['2', 'Desesperados', 'RAUW ALEJANDRO / CHENCHO CORLEONE'], ['3', 'TIAGO PZK: BZRP MUSIC SESSIONS, VOL. 48', 'BIZARRAP / TIAGO PZK'], ['4', 'Mon Amour (remix)', 'zzoilo, Aitana'], ['5', 'Tacones Rojos', 'Sebastián Yatra'], ['6', 'MORAD: BZRP MUSIC SESSIONS, VOL. 47', 'BIZARRAP / MORAD'], ['7', 'LA FAMA', 'ROSALÍA feat. The Weeknd'], ['8', 'Todo De Ti', 'RAUW ALEJANDRO'], ['9', 'PEPAS', 'Farruko'], ['10', 'Ateo', 'C. Tangana, Nathy Peluso'], ['11', 'Formentera', 'Aitana, Nicki Nicole'], ['12', 'SALIMO DE NOCHE', 'TIAGO PZK / TRUENO'], ['13', 'Nostálgico', 'Rvssian, Rauw Alejandro & Chris Brown'], ['14', 'LEY SECA', 'JHAY CORTEZ / ANUEL AA'], ['15', 'Cold Heart (Pnau Remix)', 'Elton John, Dua Lipa'], ['16', 'YONAGUNI', 'BAD BUNNY'], ['17', 'Loco', 'Justin Quiles feat. Chimbala, Zion & Lennox'], ['18', 'Nueva York (Tot*)', 'BAD GYAL'], ['19', 'DANCE CRIP', 'TRUENO'], ['20', 'UNA VAINA LOCA', 'FUEGO / MANUEL TURIZO / DUKI'], ['21', 'NO TE DESEO EL MAL', 'ELADIO CARRIÓN / KAROL G'], ['22', 'EXPERIMENTO', 'MYKE TOWERS'], ['23', 'CÚRAME', 'RAUW ALEJANDRO'], ['24', 'Tiroteo Remix', 'Marc Seguí, Rauw Alejandro y Pol Granch'], ['25', 'VOLVÍ', 'AVENTURA / BAD BUNNY'], ['26', 'LA HISTORIA', 'EL TAIGER / DJ CONDS'], ['27', 'DILE (HOMENAJE)', 'JHAY CORTEZ'], ['28', 'VOLANDO (REMIX)', 'MORA / BAD BUNNY / SECH'], ['29', 'COMBO LA L', 'BENY JR / EL GUINCHO'], ['30', 'Pareja Del Año ft Myke Towers', 'Sebastián Yatra'], ['31', 'SHE DON T GIVE A FO', 'DUKI / KHEA'], ['32', 'MEDALLO', 'BLESSD / JUSTIN QUILES / LENNY TAVÁREZ'], ['33', 'Tú Me Dejaste De Querer', 'C. Tangana feat. Niño de Elche, La Húngara'], ['34', 'MIÉNTEME', 'TINI / MARIA BECERRA'], ['35', 'La Niña de la Escuela', 'Lola Indigo, TINI, Belinda'], ['36', 'TU Y YO', 'CANO / LOS DEL CONTROL'], ['37', 'Bad Habits', 'ED SHEERAN'], ['38', 'DO IT TO IT', 'ACRAZE / CHERISH'], ['39', 'ABCDEFU', 'GAYLE'], ['40', 'Índigo', 'Camilo & Evaluna Montaner'], ['41', 'Easy On Me', 'Adele'], ['42', 'FLAMENCO Y BACHATA', 'Daviles de Novelda'], ['43', 'VIVIR ASÍ ES MORIR DE AMOR', 'Nathy Peluso'], ['44', 'Berlín', 'Aitana'], ['45', 'Qué Más Pues?', 'J. Balvin, Maria Becerra'], ['46', 'Stay', 'The Kid LAROI & Justin Bieber'], ['47', 'PTAZETA: BZRP MUSIC SESSIONS, VOL. 45', 'BIZARRAP / PTAZETA'], ['48', 'DAKITI', 'BAD BUNNY / JHAY CORTEZ'], ['49', 'Musica Ligera', 'Ana Mena'], ['50', 'SÚBELO', 'ANUEL AA / MYKE TOWERS / JHAY CORTEZ'], ['51', 'Shivers', 'ED SHEERAN'], ['52', 'El Incomprendido', 'FARRUKO / VICTOR CARDENAS / DJ ADONI'], ['53', 'Libertad', 'Nil Moliner'], ['54', 'CUANDO ELLA SALE', 'MORAD'], ['55', 'Don`t Go Yet', 'Camila Cabello'], ['56', 'Vida De Rico', 'Camilo'], ['57', 'INGOBERNABLE', 'C. TANGANA / GIPSY KINGS / NICOLAS REYES / TONINO BALIARDO'], ['58', '120', 'BAD BUNNY'], ['59', 'Ella Remix', 'Boza, Lunay, Lenny Tavárez, Juhn, Beéle'], ['60', 'INMORTALES', 'Funzo & Baby Loud'], ['61', 'COLORÍN COLORADO', 'Justin Quiles'], ['62', 'Un beso de improviso', 'Ana Mena x Rocco Hunt'], ['63', \"DON'T BE SHY\", 'TIËSTO / KAROL G'], ['64', 'Su Payita (Gramos)', 'BAD GYAL'], ['65', 'Enemy', 'Imagine Dragons y J.I.D'], ['66', 'HABLA CLARO', 'ELADIO CARRIÓN / MORAD'], ['67', 'LA OLD SKUL', 'RAUW ALEJANDRO'], ['68', 'Juramento eterno de sal', 'Alvaro De Luna'], ['69', 'In Da Getto', 'J. Balvin, Skrillex'], ['70', 'LO SIENTO BB:/', 'TAINY / BAD BUNNY / JULIETA VENEGAS'], ['71', 'YIN YAN', 'DUKI / RELS B'], ['72', 'AY MAMA', 'RIGOBERTA BANDINI'], ['73', 'All I want for christmas is you', 'Mariah Carey'], ['74', 'Solo', 'Omar Montes, Ana Mena y Maffio'], ['75', 'Save Your Tears', 'The Weeknd'], ['76', 'Sobrio', 'Maluma'], ['77', 'Llueve sobre mojado', 'Pablo Alborán, Aitana, Álvaro de Luna'], ['78', 'INDUSTRY BABY', 'LIL NAS X / JACK HARLOW'], ['79', 'Heat Waves', 'Glass Animals'], ['80', 'Fulanito', 'Becky G & El Alfa'], ['81', 'AM (REMIX)', 'NIO GARCIA / J BALVIN / BAD BUNNY'], ['82', 'KESI remix', 'Camilo & Shawn Mendes'], ['83', \"BEGGIN'\", 'Måneskin'], ['84', 'Bar', 'TINI & L-Gante'], ['85', 'Blinding Lights', 'The Weeknd'], ['86', 'A un paso de la luna', 'Ana Mena & Rocco Hunt'], ['87', 'Sabe', 'Nicki Nicole & Rauw Alejandro'], ['88', 'LA NOCHE DE ANOCHE', 'BAD BUNNY / ROSALÍA'], ['89', 'ANUEL AA: BZRP MUSIC SESSION: VOL. 46', 'BIZARRAP / ANUEL AA'], ['90', 'FIEL', 'LOS LEGENDARIOS / WISIN / JHAY CORTEZ'], ['91', 'Clima Tropical', 'Dani Fernandez'], ['92', 'AQUEL NAP ZZZZ', 'RAUW ALEJANDRO'], ['93', 'ALMAS GEMELAS', 'MYKE TOWERS'], ['94', 'My Universe', 'Coldplay, BTS'], ['95', 'Porfa no te vayas', 'Beret, Morat'], ['96', 'DIABLITA REMIX', 'FABBIO / OMAR MONTES / LENNIS RODRIGUEZ / CHUS SANTANA'], ['97', 'ELLA', 'EL BOBE / ALPEDUE'], ['98', 'BUSCATE OTRO', 'JC LA NEVULA / ATOMIC OTRO WAY'], ['99', 'SIN FRENOS', 'ELADIO CARRIÓN / BIZARRAP / DUKI'], ['100', 'HAWÁI', 'Maluma']]\n"
     ]
    }
   ],
   "source": [
    "import numpy as np\n",
    "\n",
    "# prueba métodos de extracción de información con estrategias webscraping\n",
    "from extraccion import webscraping\n",
    "\n",
    "# obtener contenido de canciones más escuchadas de la página top 100 del mes de enero portaldemusica.es\n",
    "URL = 'https://www.elportaldemusica.es/lists/top-100-canciones/2022/1'\n",
    "contenedor = 'w1'\n",
    "divPrincipal = 'item'\n",
    "elementosHtml = np.array([\n",
    "   ['p', 'single-list-entry-rank-position'], \n",
    "   ['div', 'name'],\n",
    "   ['div', 'related'] \n",
    "])\n",
    "print('Posición, nombre de canción y autor, extraidos del top 100 enero del portal de musica: ')\n",
    "print(webscraping.obtenerElementos(URL, contenedor, divPrincipal, elementosHtml))"
   ]
  },
  {
   "cell_type": "code",
   "execution_count": 6,
   "id": "28d39d08",
   "metadata": {},
   "outputs": [
    {
     "name": "stdout",
     "output_type": "stream",
     "text": [
      "Título y compañía extraido de github io fake-jobs: \n",
      "[['Senior Python Developer', 'Payne, Roberts and Davis'], ['Energy engineer', 'Vasquez-Davidson'], ['Legal executive', 'Jackson, Chambers and Levy'], ['Fitness centre manager', 'Savage-Bradley'], ['Product manager', 'Ramirez Inc'], ['Medical technical officer', 'Rogers-Yates'], ['Physiological scientist', 'Kramer-Klein'], ['Textile designer', 'Meyers-Johnson'], ['Television floor manager', 'Hughes-Williams'], ['Waste management officer', 'Jones, Williams and Villa'], ['Software Engineer (Python)', 'Garcia PLC'], ['Interpreter', 'Gregory and Sons'], ['Architect', 'Clark, Garcia and Sosa'], ['Meteorologist', 'Bush PLC'], ['Audiological scientist', 'Salazar-Meyers'], ['English as a second language teacher', 'Parker, Murphy and Brooks'], ['Surgeon', 'Cruz-Brown'], ['Equities trader', 'Macdonald-Ferguson'], ['Newspaper journalist', 'Williams, Peterson and Rojas'], ['Materials engineer', 'Smith and Sons'], ['Python Programmer (Entry-Level)', 'Moss, Duncan and Allen'], ['Product/process development scientist', 'Gomez-Carroll'], ['Scientist, research (maths)', 'Manning, Welch and Herring'], ['Ecologist', 'Lee, Gutierrez and Brown'], ['Materials engineer', 'Davis, Serrano and Cook'], ['Historic buildings inspector/conservation officer', 'Smith LLC'], ['Data scientist', 'Thomas Group'], ['Psychiatrist', 'Silva-King'], ['Structural engineer', 'Pierce-Long'], ['Immigration officer', 'Walker-Simpson'], ['Python Programmer (Entry-Level)', 'Cooper and Sons'], ['Neurosurgeon', 'Donovan, Gonzalez and Figueroa'], ['Broadcast engineer', 'Morgan, Butler and Bennett'], ['Make', 'Snyder-Lee'], ['Nurse, adult', 'Harris PLC'], ['Air broker', 'Washington PLC'], ['Editor, film/video', 'Brown, Price and Campbell'], ['Production assistant, radio', 'Mcgee PLC'], ['Engineer, communications', 'Dixon Inc'], ['Sales executive', 'Thompson, Sheppard and Ward'], ['Software Developer (Python)', 'Adams-Brewer'], ['Futures trader', 'Schneider-Brady'], ['Tour manager', 'Gonzales-Frank'], ['Cytogeneticist', 'Smith-Wong'], ['Designer, multimedia', 'Pierce-Herrera'], ['Trade union research officer', 'Aguilar, Rivera and Quinn'], ['Chemist, analytical', 'Lowe, Barnes and Thomas'], ['Programmer, multimedia', 'Lewis, Gonzalez and Vasquez'], ['Engineer, broadcasting (operations)', 'Taylor PLC'], ['Teacher, primary school', 'Oliver, Jones and Ramirez'], ['Python Developer', 'Rivera and Sons'], ['Manufacturing systems engineer', 'Garcia PLC'], ['Producer, television/film/video', 'Johnson, Wells and Kramer'], ['Scientist, forensic', 'Gonzalez LLC'], ['Bonds trader', 'Morgan, White and Macdonald'], ['Editorial assistant', 'Robinson-Fitzpatrick'], ['Photographer', 'Waters, Wilson and Hoover'], ['Retail banker', 'Hill LLC'], ['Jewellery designer', 'Li-Gregory'], ['Ophthalmologist', 'Fisher, Ryan and Coleman'], ['Back-End Web Developer (Python, Django)', 'Stewart-Alexander'], ['Licensed conveyancer', 'Abbott and Sons'], ['Futures trader', 'Bryant, Santana and Davenport'], ['Counselling psychologist', 'Smith PLC'], ['Insurance underwriter', 'Patterson-Singh'], ['Engineer, automotive', 'Martinez-Berry'], ['Producer, radio', 'May, Taylor and Fisher'], ['Dispensing optician', 'Bailey, Owen and Thompson'], ['Designer, fashion/clothing', 'Vasquez Ltd'], ['Chartered loss adjuster', 'Leblanc LLC'], ['Back-End Web Developer (Python, Django)', 'Jackson, Ali and Mckee'], ['Forest/woodland manager', 'Blankenship, Knight and Powell'], ['Clinical cytogeneticist', 'Patton, Haynes and Jones'], ['Print production planner', 'Wood Inc'], ['Systems developer', 'Collins Group'], ['Graphic designer', 'Flores-Nelson'], ['Writer', 'Mitchell, Jones and Olson'], ['Field seismologist', 'Howard Group'], ['Chief Strategy Officer', 'Kramer-Edwards'], ['Air cabin crew', 'Berry-Houston'], ['Python Programmer (Entry-Level)', 'Mathews Inc'], ['Warden/ranger', 'Riley-Johnson'], ['Sports therapist', 'Spencer and Sons'], ['Arts development officer', 'Camacho-Sanchez'], ['Printmaker', 'Oliver and Sons'], ['Health and safety adviser', 'Eaton PLC'], ['Manufacturing systems engineer', 'Stanley-Frederick'], ['Programmer, applications', 'Bradley LLC'], ['Medical physicist', 'Parker, Goodwin and Zavala'], ['Media planner', 'Kim-Miles'], ['Software Developer (Python)', 'Moreno-Rodriguez'], ['Surveyor, land/geomatics', 'Brown-Ortiz'], ['Legal executive', 'Hartman PLC'], ['Librarian, academic', 'Brooks Inc'], ['Barrister', 'Washington-Castillo'], ['Museum/gallery exhibitions officer', 'Nguyen, Yoder and Petty'], ['Radiographer, diagnostic', 'Holder LLC'], ['Database administrator', 'Yates-Ferguson'], ['Furniture designer', 'Ortega-Lawrence'], ['Ship broker', 'Fuentes, Walls and Castro']]\n"
     ]
    }
   ],
   "source": [
    "# obtener contenido de profeciones expuestas en github io\n",
    "URL = 'https://realpython.github.io/fake-jobs/'\n",
    "contenedor = 'ResultsContainer'\n",
    "divPrincipal = 'card-content'\n",
    "elementosHtml = np.array([\n",
    "   ['h2', 'title'], \n",
    "   ['h3', 'company'] \n",
    "])\n",
    "print('Título y compañía extraido de github io fake-jobs: ')\n",
    "print(webscraping.obtenerElementos(URL, contenedor, divPrincipal, elementosHtml))"
   ]
  }
 ],
 "metadata": {
  "kernelspec": {
   "display_name": "Python 3.8.10 ('entorno_prueba')",
   "language": "python",
   "name": "python3"
  },
  "language_info": {
   "codemirror_mode": {
    "name": "ipython",
    "version": 3
   },
   "file_extension": ".py",
   "mimetype": "text/x-python",
   "name": "python",
   "nbconvert_exporter": "python",
   "pygments_lexer": "ipython3",
   "version": "3.8.10"
  },
  "vscode": {
   "interpreter": {
    "hash": "df928c92915a6e295095bb07de7b84624befc7d196e01c26e318bdc14196d6a4"
   }
  }
 },
 "nbformat": 4,
 "nbformat_minor": 5
}
