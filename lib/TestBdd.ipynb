{
 "cells": [
  {
   "cell_type": "code",
   "execution_count": 1,
   "id": "8234753e",
   "metadata": {},
   "outputs": [
    {
     "name": "stdout",
     "output_type": "stream",
     "text": [
      "Identificador del documento insertado:  62b32d1859f809db73be71d7\n",
      "Identificadores de los documentos insertados:  [ObjectId('62b32d1859f809db73be71d9'), ObjectId('62b32d1859f809db73be71da'), ObjectId('62b32d1859f809db73be71db')]\n"
     ]
    }
   ],
   "source": [
    "# prueba métodos para base de datos en MongoDB\n",
    "from bdd import mongoDB_cliente\n",
    "\n",
    "coleccion = 'p1'\n",
    "\n",
    "# prueba insertar un documento a una colección de MongoDB\n",
    "documento = {\"name\": \"Kelly\", \"age\": \"35\", \"city\": \"Quito\"}\n",
    "identificador = mongoDB_cliente.insertarDocumento(coleccion, documento)\n",
    "print('Identificador del documento insertado: ', identificador)\n",
    "\n",
    "# prueba insertar un documento a una colección de MongoDB\n",
    "documentos = [\n",
    "   {\"name\": \"Doc1\", \"age\": \"1\", \"city\": \"Hyderabad\"},\n",
    "   {\"name\": \"Doc2\", \"age\": \"2\", \"city\": \"Bangalore\"},\n",
    "   {\"name\": \"Doc3\", \"age\": \"3\", \"city\": \"Mumbai\"}]\n",
    "identificadores = mongoDB_cliente.insertarDocumentos(coleccion, documentos)\n",
    "print('Identificadores de los documentos insertados: ', identificadores)"
   ]
  }
 ],
 "metadata": {
  "kernelspec": {
   "display_name": "Python 3.8.10 ('entorno_prueba')",
   "language": "python",
   "name": "python3"
  },
  "language_info": {
   "codemirror_mode": {
    "name": "ipython",
    "version": 3
   },
   "file_extension": ".py",
   "mimetype": "text/x-python",
   "name": "python",
   "nbconvert_exporter": "python",
   "pygments_lexer": "ipython3",
   "version": "3.8.10"
  },
  "vscode": {
   "interpreter": {
    "hash": "df928c92915a6e295095bb07de7b84624befc7d196e01c26e318bdc14196d6a4"
   }
  }
 },
 "nbformat": 4,
 "nbformat_minor": 5
}
